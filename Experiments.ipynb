{
  "nbformat": 4,
  "nbformat_minor": 0,
  "metadata": {
    "kernelspec": {
      "display_name": "Python 3",
      "language": "python",
      "name": "python3"
    },
    "language_info": {
      "codemirror_mode": {
        "name": "ipython",
        "version": 3
      },
      "file_extension": ".py",
      "mimetype": "text/x-python",
      "name": "python",
      "nbconvert_exporter": "python",
      "pygments_lexer": "ipython3",
      "version": "3.7.3"
    },
    "colab": {
      "name": "Experiments.ipynb",
      "provenance": [],
      "collapsed_sections": []
    },
    "accelerator": "GPU"
  },
  "cells": [
    {
      "cell_type": "code",
      "metadata": {
        "id": "1D7df6efKw_z",
        "colab_type": "code",
        "outputId": "0f988e19-4855-4f84-de2d-303ceb1e6e8e",
        "colab": {
          "base_uri": "https://localhost:8080/",
          "height": 34
        }
      },
      "source": [
        "# Detect if we are in Google Colaboratory\n",
        "try:\n",
        "    import google.colab\n",
        "    IN_COLAB = True\n",
        "except ImportError:\n",
        "    IN_COLAB = False\n",
        "\n",
        "if IN_COLAB:\n",
        "    google.colab.drive.mount(\"/content/drive\")"
      ],
      "execution_count": 1,
      "outputs": [
        {
          "output_type": "stream",
          "text": [
            "Drive already mounted at /content/drive; to attempt to forcibly remount, call drive.mount(\"/content/drive\", force_remount=True).\n"
          ],
          "name": "stdout"
        }
      ]
    },
    {
      "cell_type": "code",
      "metadata": {
        "id": "gCnjTzkywVsf",
        "colab_type": "code",
        "colab": {}
      },
      "source": [
        "# !python /content/drive/My\\ Drive/DL/data_preprocessing.py --config_file=\"/content/drive/My Drive/DL/configs/config_preprocessing.txt\""
      ],
      "execution_count": 0,
      "outputs": []
    },
    {
      "cell_type": "code",
      "metadata": {
        "id": "9yKRXz5L3q99",
        "colab_type": "code",
        "colab": {}
      },
      "source": [
        "%load_ext tensorboard\n",
        "%tensorboard --logdir /content/drive/My\\ Drive/DL/tb"
      ],
      "execution_count": 0,
      "outputs": []
    },
    {
      "cell_type": "code",
      "metadata": {
        "id": "nk1wwE9b66T7",
        "colab_type": "code",
        "colab": {}
      },
      "source": [
        "!python /content/drive/My\\ Drive/DL/train.py --config_file=\"/content/drive/My Drive/DL/configs/config_train.txt\""
      ],
      "execution_count": 0,
      "outputs": []
    },
    {
      "cell_type": "code",
      "metadata": {
        "id": "VbmYMEDK58yc",
        "colab_type": "code",
        "colab": {}
      },
      "source": [
        "# !python /content/drive/My\\ Drive/DL/inference.py --config_file=\"/content/drive/My Drive/DL/configs/config_inference.txt\""
      ],
      "execution_count": 0,
      "outputs": []
    }
  ]
}